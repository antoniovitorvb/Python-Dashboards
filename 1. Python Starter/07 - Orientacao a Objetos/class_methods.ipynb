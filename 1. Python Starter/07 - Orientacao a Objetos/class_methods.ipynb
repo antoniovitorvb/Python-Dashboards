{
 "cells": [
  {
   "attachments": {},
   "cell_type": "markdown",
   "metadata": {},
   "source": [
    "Objetos e Classes no Python"
   ]
  },
  {
   "cell_type": "code",
   "execution_count": 7,
   "metadata": {},
   "outputs": [
    {
     "name": "stdout",
     "output_type": "stream",
     "text": [
      "<class 'list'>\n"
     ]
    }
   ],
   "source": [
    "l = [1, 2, 3]\n",
    "print(type(l))"
   ]
  },
  {
   "cell_type": "code",
   "execution_count": 1,
   "metadata": {},
   "outputs": [
    {
     "name": "stdout",
     "output_type": "stream",
     "text": [
      "<class 'str'>\n"
     ]
    }
   ],
   "source": [
    "string_ = 'str'\n",
    "\n",
    "print(type(string_))"
   ]
  },
  {
   "cell_type": "code",
   "execution_count": 2,
   "metadata": {},
   "outputs": [],
   "source": [
    "class exemplo:\n",
    "    pass"
   ]
  },
  {
   "cell_type": "code",
   "execution_count": 3,
   "metadata": {},
   "outputs": [
    {
     "name": "stdout",
     "output_type": "stream",
     "text": [
      "<class '__main__.exemplo'>\n"
     ]
    }
   ],
   "source": [
    "x = exemplo()\n",
    "\n",
    "print(type(x))"
   ]
  },
  {
   "attachments": {},
   "cell_type": "markdown",
   "metadata": {},
   "source": [
    "Criando Classes e Métodos"
   ]
  },
  {
   "cell_type": "code",
   "execution_count": 13,
   "metadata": {},
   "outputs": [],
   "source": [
    "class dog:\n",
    "    def __init__(self, raca):\n",
    "        # idade = 1 # qualquer variável dentro de def sem o prefixo self. não será válida fora do ambiente do def\n",
    "        self.idade = 10"
   ]
  },
  {
   "cell_type": "code",
   "execution_count": 5,
   "metadata": {},
   "outputs": [
    {
     "name": "stdout",
     "output_type": "stream",
     "text": [
      "Idade inicial da classe: 10\n",
      "Nova idade: 11\n"
     ]
    }
   ],
   "source": [
    "doggo = dog()\n",
    "\n",
    "print('Idade inicial da classe:',doggo.idade)\n",
    "\n",
    "doggo.idade = 11\n",
    "print('Nova idade:', doggo.idade)"
   ]
  },
  {
   "cell_type": "code",
   "execution_count": 16,
   "metadata": {},
   "outputs": [],
   "source": [
    "class dog:\n",
    "    def __init__(self, raca):\n",
    "        # idade = 1 # qualquer variável dentro de def sem o prefixo self. não será válida fora do ambiente do def\n",
    "        self.idade = 10\n",
    "        self.raca = raca\n",
    "        print(\"{} criado\".format(raca))\n",
    "\n",
    "    def envelhecer(self):\n",
    "        self.idade += 1\n",
    "        return self.idade"
   ]
  },
  {
   "cell_type": "code",
   "execution_count": 24,
   "metadata": {},
   "outputs": [
    {
     "name": "stdout",
     "output_type": "stream",
     "text": [
      "Husky criado\n",
      "idade: 10; \n",
      "raça: Husky\n",
      "envelhendo...\n",
      "idade: 11\n"
     ]
    }
   ],
   "source": [
    "doggo = dog(\"Husky\")\n",
    "\n",
    "print(\"idade: {}; \\nraça: {}\".format(doggo.idade, doggo.raca))\n",
    "\n",
    "doggo.envelhecer()\n",
    "print(\"envelhendo...\\nidade: {}\".format(doggo.idade))"
   ]
  },
  {
   "cell_type": "code",
   "execution_count": 28,
   "metadata": {},
   "outputs": [],
   "source": [
    "class circle:\n",
    "    def __init__(self, raio = 1):\n",
    "        self.raio = raio\n",
    "\n",
    "    def area(self):\n",
    "        return self.raio**2*3.14"
   ]
  },
  {
   "cell_type": "code",
   "execution_count": 33,
   "metadata": {},
   "outputs": [
    {
     "name": "stdout",
     "output_type": "stream",
     "text": [
      "Raio 1: 1;\n",
      "Raio 2: 2\n",
      "Area 1: 3.14;\n",
      "Area 2: 12.56\n"
     ]
    }
   ],
   "source": [
    "c1 = circle()\n",
    "c2 = circle(2)\n",
    "\n",
    "print(\"Raio 1: {};\\nRaio 2: {}\".format(c1.raio, c2.raio))\n",
    "\n",
    "print(\"Area 1: {};\\nArea 2: {}\".format(c1.area(), c2.area()))"
   ]
  },
  {
   "attachments": {},
   "cell_type": "markdown",
   "metadata": {},
   "source": [
    "Herança e Métodos Especiais"
   ]
  },
  {
   "cell_type": "code",
   "execution_count": 45,
   "metadata": {},
   "outputs": [],
   "source": [
    "class animal:\n",
    "    def __init__(self):\n",
    "        print(\"Animal criado\")\n",
    "\n",
    "    def quem_sou_eu(self):\n",
    "        print(\"Eu sou um ANIMAL\")\n",
    "\n",
    "    def comer(self):\n",
    "        print(\"Comendo\")\n",
    "\n",
    "class cachorro(animal):\n",
    "    def __init__(self):\n",
    "        animal.__init__(self)\n",
    "        print(\"Eu sou um cachorro\")\n",
    "\n",
    "    # OU\n",
    "\n",
    "    def quem_sou_eu(self):\n",
    "        print(\"Eu sou um CACHORRO\")\n",
    "    "
   ]
  },
  {
   "cell_type": "code",
   "execution_count": 42,
   "metadata": {},
   "outputs": [
    {
     "name": "stdout",
     "output_type": "stream",
     "text": [
      "Animal criado\n"
     ]
    }
   ],
   "source": [
    "ani = animal()"
   ]
  },
  {
   "cell_type": "code",
   "execution_count": 47,
   "metadata": {},
   "outputs": [
    {
     "name": "stdout",
     "output_type": "stream",
     "text": [
      "Animal criado\n",
      "Eu sou um cachorro\n",
      "Eu sou um CACHORRO\n"
     ]
    }
   ],
   "source": [
    "doggo = cachorro()\n",
    "\n",
    "doggo.quem_sou_eu()"
   ]
  },
  {
   "cell_type": "code",
   "execution_count": 54,
   "metadata": {},
   "outputs": [],
   "source": [
    "class Book(object):\n",
    "    def __init__(self, title, author, pages):\n",
    "        self.title = title\n",
    "        self.author = author\n",
    "        self.pages = pages\n",
    "        print(\"Book created\")\n",
    "\n",
    "    def __str__(self):\n",
    "        return \"Title: {};\\nAuthor: {};\\nPages: {}\".format(self.title, self.author, self.pages)\n",
    "\n",
    "    def __len__(self):\n",
    "        return self.pages\n",
    "    \n",
    "    def __del__(self):\n",
    "        print(\"Book destroyed\")"
   ]
  },
  {
   "cell_type": "code",
   "execution_count": 55,
   "metadata": {},
   "outputs": [
    {
     "name": "stdout",
     "output_type": "stream",
     "text": [
      "Book created\n",
      "Title: 1984;\n",
      "Author: George Orwell;\n",
      "Pages: 365\n",
      "365\n",
      "Book destroyed\n"
     ]
    },
    {
     "ename": "",
     "evalue": "",
     "output_type": "error",
     "traceback": [
      "\u001b[1;31mThe Kernel crashed while executing code in the the current cell or a previous cell. Please review the code in the cell(s) to identify a possible cause of the failure. Click <a href='https://aka.ms/vscodeJupyterKernelCrash'>here</a> for more info. View Jupyter <a href='command:jupyter.viewOutput'>log</a> for further details."
     ]
    }
   ],
   "source": [
    "book1 = Book(\"1984\", \"George Orwell\", 365)\n",
    "\n",
    "print(book1) # busca automaticamento o __str__\n",
    "print(len(book1)) # busca automaticamento o __len__\n",
    "del book1 # busca automaticamento o __del__"
   ]
  }
 ],
 "metadata": {
  "kernelspec": {
   "display_name": "Python 3",
   "language": "python",
   "name": "python3"
  },
  "language_info": {
   "codemirror_mode": {
    "name": "ipython",
    "version": 3
   },
   "file_extension": ".py",
   "mimetype": "text/x-python",
   "name": "python",
   "nbconvert_exporter": "python",
   "pygments_lexer": "ipython3",
   "version": "3.10.9"
  },
  "orig_nbformat": 4,
  "vscode": {
   "interpreter": {
    "hash": "2ec1ab3a7492c682861eb248a34c624e35e5f607dace7fc7e85d983a5f829e20"
   }
  }
 },
 "nbformat": 4,
 "nbformat_minor": 2
}
