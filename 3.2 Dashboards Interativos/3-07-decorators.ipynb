{
 "cells": [
  {
   "attachments": {},
   "cell_type": "markdown",
   "metadata": {},
   "source": [
    "# Decoradores"
   ]
  },
  {
   "attachments": {},
   "cell_type": "markdown",
   "metadata": {},
   "source": [
    "Um decorador em Python é uma função que recebe outra função como argumento e retorna uma nova função. A nova função pode ou não ter alterações em relação à função original, dependendo da implementação do decorador."
   ]
  },
  {
   "cell_type": "code",
   "execution_count": 7,
   "metadata": {},
   "outputs": [
    {
     "name": "stdout",
     "output_type": "stream",
     "text": [
      "Antes da execução da função\n",
      "Executando a função\n",
      "Depois da execução da função\n"
     ]
    }
   ],
   "source": [
    "def meu_decorador(funcao):\n",
    "    def funcao_decorada():\n",
    "        print(\"Antes da execução da função\")\n",
    "        funcao()\n",
    "        print(\"Depois da execução da função\")\n",
    "    return funcao_decorada\n",
    "\n",
    "@meu_decorador\n",
    "def minha_funcao():\n",
    "    print(\"Executando a função\")\n",
    "\n",
    "minha_funcao()"
   ]
  },
  {
   "attachments": {},
   "cell_type": "markdown",
   "metadata": {},
   "source": [
    "Definindo variáveis como funções"
   ]
  },
  {
   "cell_type": "code",
   "execution_count": 1,
   "metadata": {},
   "outputs": [
    {
     "data": {
      "text/plain": [
       "4"
      ]
     },
     "execution_count": 1,
     "metadata": {},
     "output_type": "execute_result"
    }
   ],
   "source": [
    "def soma_um(num):\n",
    "    return num + 1\n",
    "\n",
    "add1 = soma_um\n",
    "add1(3)"
   ]
  },
  {
   "attachments": {},
   "cell_type": "markdown",
   "metadata": {},
   "source": [
    "Definindo funções dentro de outras funções"
   ]
  },
  {
   "cell_type": "code",
   "execution_count": 2,
   "metadata": {},
   "outputs": [
    {
     "data": {
      "text/plain": [
       "7"
      ]
     },
     "execution_count": 2,
     "metadata": {},
     "output_type": "execute_result"
    }
   ],
   "source": [
    "def soma_dois(num):\n",
    "    def adiciona_um(num):\n",
    "        return num + 1\n",
    "    \n",
    "    return adiciona_um(num) + 1\n",
    "\n",
    "soma_dois(5)"
   ]
  },
  {
   "attachments": {},
   "cell_type": "markdown",
   "metadata": {},
   "source": [
    "Passando funções como argumentos de outras funções"
   ]
  },
  {
   "cell_type": "code",
   "execution_count": 6,
   "metadata": {},
   "outputs": [
    {
     "name": "stdout",
     "output_type": "stream",
     "text": [
      "Média = 3.3333333333333335\n",
      "Soma = 20\n"
     ]
    }
   ],
   "source": [
    "def media(nums):\n",
    "    return sum(nums)/len(nums)\n",
    "\n",
    "def soma(nums):\n",
    "    return sum(nums)\n",
    "\n",
    "def call_func(function, lista):\n",
    "    return function(lista)\n",
    "\n",
    "nums = [1, 1, 2, 3, 5, 8]\n",
    "\n",
    "print('Média =', call_func(function=media, lista=x))\n",
    "print('Soma =', call_func(function=soma, lista=x))"
   ]
  },
  {
   "attachments": {},
   "cell_type": "markdown",
   "metadata": {},
   "source": [
    "### Aplicando Decoradores"
   ]
  },
  {
   "cell_type": "code",
   "execution_count": 9,
   "metadata": {},
   "outputs": [],
   "source": [
    "def decorador_maiusculo(function): \n",
    "    \"\"\"\n",
    "    pega uma função que retorna texto \n",
    "    e decora pra retornar o mesmo texto em maiúsculo\n",
    "    \"\"\"\n",
    "    def wrapper():\n",
    "        func = function()\n",
    "        cria_maiusculo = func.upper()\n",
    "        return cria_maiusculo\n",
    "    \n",
    "    return wrapper\n",
    "\n",
    "def diga_oi():\n",
    "    return 'hello there'\n",
    "\n",
    "funcao_decorada = decorador_maiusculo(diga_oi)"
   ]
  },
  {
   "cell_type": "code",
   "execution_count": 10,
   "metadata": {},
   "outputs": [
    {
     "name": "stdout",
     "output_type": "stream",
     "text": [
      "Antes do decorador:  hello there\n",
      "Depois do decorador:  HELLO THERE\n"
     ]
    }
   ],
   "source": [
    "print('Antes do decorador: ', diga_oi())\n",
    "print('Depois do decorador: ', funcao_decorada())"
   ]
  },
  {
   "attachments": {},
   "cell_type": "markdown",
   "metadata": {},
   "source": [
    "Nova sintaxe (@)"
   ]
  },
  {
   "cell_type": "code",
   "execution_count": 11,
   "metadata": {},
   "outputs": [
    {
     "data": {
      "text/plain": [
       "'HELLO THERE'"
      ]
     },
     "execution_count": 11,
     "metadata": {},
     "output_type": "execute_result"
    }
   ],
   "source": [
    "def decora_maiusculo(function): \n",
    "    \"\"\"\n",
    "    pega uma função que retorna texto \n",
    "    e decora pra retornar o mesmo texto em maiúsculo\n",
    "    \"\"\"\n",
    "    def wrapper():\n",
    "        func = function()\n",
    "        cria_maiusculo = func.upper()\n",
    "        return cria_maiusculo\n",
    "    \n",
    "    return wrapper\n",
    "\n",
    "@decora_maiusculo\n",
    "def diga_oi():\n",
    "    return 'hello there'\n",
    "\n",
    "diga_oi()"
   ]
  }
 ],
 "metadata": {
  "kernelspec": {
   "display_name": "Python 3",
   "language": "python",
   "name": "python3"
  },
  "language_info": {
   "codemirror_mode": {
    "name": "ipython",
    "version": 3
   },
   "file_extension": ".py",
   "mimetype": "text/x-python",
   "name": "python",
   "nbconvert_exporter": "python",
   "pygments_lexer": "ipython3",
   "version": "3.10.10"
  },
  "orig_nbformat": 4,
  "vscode": {
   "interpreter": {
    "hash": "2ec1ab3a7492c682861eb248a34c624e35e5f607dace7fc7e85d983a5f829e20"
   }
  }
 },
 "nbformat": 4,
 "nbformat_minor": 2
}
